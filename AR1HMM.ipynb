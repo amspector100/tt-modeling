{
 "cells": [
  {
   "cell_type": "markdown",
   "metadata": {},
   "source": [
    "## 1. Introduction and Dataset"
   ]
  },
  {
   "cell_type": "markdown",
   "metadata": {},
   "source": [
    "My brother Ben and I play a lot of ping pong, and recently, we have decided to track the scores of our ping-pong games! \n",
    "\n",
    "We actually went a little overboard and designed a system where we can track the exact progression of points in each game. \n",
    "\n",
    "An example of the dataset we've collected is below."
   ]
  },
  {
   "cell_type": "code",
   "execution_count": 4,
   "metadata": {
    "scrolled": false
   },
   "outputs": [
    {
     "data": {
      "text/html": [
       "<div>\n",
       "<style scoped>\n",
       "    .dataframe tbody tr th:only-of-type {\n",
       "        vertical-align: middle;\n",
       "    }\n",
       "\n",
       "    .dataframe tbody tr th {\n",
       "        vertical-align: top;\n",
       "    }\n",
       "\n",
       "    .dataframe thead th {\n",
       "        text-align: right;\n",
       "    }\n",
       "</style>\n",
       "<table border=\"1\" class=\"dataframe\">\n",
       "  <thead>\n",
       "    <tr style=\"text-align: right;\">\n",
       "      <th></th>\n",
       "      <th>point</th>\n",
       "      <th>time</th>\n",
       "      <th>gametime</th>\n",
       "      <th>ash_points</th>\n",
       "      <th>ben_points</th>\n",
       "      <th>server</th>\n",
       "      <th>game_no</th>\n",
       "    </tr>\n",
       "    <tr>\n",
       "      <th>point_num</th>\n",
       "      <th></th>\n",
       "      <th></th>\n",
       "      <th></th>\n",
       "      <th></th>\n",
       "      <th></th>\n",
       "      <th></th>\n",
       "      <th></th>\n",
       "    </tr>\n",
       "  </thead>\n",
       "  <tbody>\n",
       "    <tr>\n",
       "      <th>45</th>\n",
       "      <td>0</td>\n",
       "      <td>1.592016e+09</td>\n",
       "      <td>1592015311</td>\n",
       "      <td>23</td>\n",
       "      <td>23</td>\n",
       "      <td>1</td>\n",
       "      <td>52</td>\n",
       "    </tr>\n",
       "    <tr>\n",
       "      <th>46</th>\n",
       "      <td>0</td>\n",
       "      <td>1.592016e+09</td>\n",
       "      <td>1592015311</td>\n",
       "      <td>23</td>\n",
       "      <td>24</td>\n",
       "      <td>0</td>\n",
       "      <td>52</td>\n",
       "    </tr>\n",
       "    <tr>\n",
       "      <th>47</th>\n",
       "      <td>1</td>\n",
       "      <td>1.592016e+09</td>\n",
       "      <td>1592015311</td>\n",
       "      <td>24</td>\n",
       "      <td>24</td>\n",
       "      <td>1</td>\n",
       "      <td>52</td>\n",
       "    </tr>\n",
       "    <tr>\n",
       "      <th>48</th>\n",
       "      <td>0</td>\n",
       "      <td>1.592016e+09</td>\n",
       "      <td>1592015311</td>\n",
       "      <td>24</td>\n",
       "      <td>25</td>\n",
       "      <td>0</td>\n",
       "      <td>52</td>\n",
       "    </tr>\n",
       "    <tr>\n",
       "      <th>49</th>\n",
       "      <td>0</td>\n",
       "      <td>1.592016e+09</td>\n",
       "      <td>1592015311</td>\n",
       "      <td>24</td>\n",
       "      <td>26</td>\n",
       "      <td>1</td>\n",
       "      <td>52</td>\n",
       "    </tr>\n",
       "  </tbody>\n",
       "</table>\n",
       "</div>"
      ],
      "text/plain": [
       "           point          time    gametime  ash_points  ben_points  server  \\\n",
       "point_num                                                                    \n",
       "45             0  1.592016e+09  1592015311          23          23       1   \n",
       "46             0  1.592016e+09  1592015311          23          24       0   \n",
       "47             1  1.592016e+09  1592015311          24          24       1   \n",
       "48             0  1.592016e+09  1592015311          24          25       0   \n",
       "49             0  1.592016e+09  1592015311          24          26       1   \n",
       "\n",
       "           game_no  \n",
       "point_num           \n",
       "45              52  \n",
       "46              52  \n",
       "47              52  \n",
       "48              52  \n",
       "49              52  "
      ]
     },
     "execution_count": 4,
     "metadata": {},
     "output_type": "execute_result"
    }
   ],
   "source": [
    "import processing\n",
    "data = processing.process_data()\n",
    "data.tail()"
   ]
  },
  {
   "cell_type": "markdown",
   "metadata": {},
   "source": [
    "Now that we have the data, we want to model it, with two goals. (1) We want to know who is better at ping pong, and (2) we want to gain a better understanding of stochastic progression of points within games. "
   ]
  },
  {
   "cell_type": "markdown",
   "metadata": {},
   "source": [
    "### 1.1 Dataset Details"
   ]
  },
  {
   "cell_type": "markdown",
   "metadata": {},
   "source": [
    "In the above sample from the data, we have the following columns:\n",
    "1. ``point_num`` refers to which point in the game we have played\n",
    "2. ``point`` denotes who won the point, where 0 means Ben won the point, and 1 means Asher won the point.\n",
    "3. ``time`` and ``gametime`` denote the times that the point was logged / the game was started, respectively\n",
    "4.  ``ash_points`` and ``ben_points`` refer to the cumulative number of points scored by each player\n",
    "5. ``server`` denotes who was serving (1 = Asher, 0 = Ben)\n",
    "6. ``game_no``is an ID which denotes which game is being played"
   ]
  },
  {
   "cell_type": "markdown",
   "metadata": {},
   "source": [
    "### 1.2 Game Rules"
   ]
  },
  {
   "cell_type": "markdown",
   "metadata": {},
   "source": [
    "Some ground rules right off the bat:\n",
    "\n",
    "1. Ben and I play to $21$ with a win-by-two rule.\n",
    "2. We alternate serves in pairs (e.g. one person serves twice, then the other person serves twice, repeat).\n",
    "3. If the game reaches the score $20-20$, we begin to alternate every other serve (e.g. one person serves once, then the other person serves once, repeat)."
   ]
  },
  {
   "cell_type": "markdown",
   "metadata": {},
   "source": [
    "## 2. Model "
   ]
  },
  {
   "cell_type": "markdown",
   "metadata": {},
   "source": [
    "### 2.1 Substantive Framework"
   ]
  },
  {
   "cell_type": "markdown",
   "metadata": {},
   "source": [
    "Currently, we use a hidden markov model with a mean-reverting autoregressive hidden state to model the data.\n",
    "\n",
    "In particular, consider point $i$ of game $j$. We observe $Y_{ij}$, the player who wins this point. However, we introduce a *latent skill variable* $X_{ij}$ which measures the difference in skill between my brother and I at a particular point in time. When $X_{ij} > 0$, this indicates that I have higher skill than my brother, and vice versa.\n",
    "\n",
    "We have chosen to model this skill difference as a *stochastic process*, rather than a fixed variable, because in all honesty, the skill difference between us does change with time! Some days I outplay my brother, and some days he outplays me. \n",
    "\n",
    "That said, there are underlying parameters which govern the distribution of $X_{ij}$. We can perform inference on these parameters later to test whether the $X_{ij}$ has bias in one direction or the other (e.g. one player tends to have higher skill than the other)."
   ]
  },
  {
   "cell_type": "markdown",
   "metadata": {},
   "source": [
    "### 2.2 Idealized Model"
   ]
  },
  {
   "cell_type": "markdown",
   "metadata": {},
   "source": [
    "As before, consider point $i$ of game $j$. Denote:\n",
    "- $Y_{i}$ as the indicator that I (Asher) win point $i$\n",
    "- $X_{i}$ as the skill gap at that time\n",
    "\n",
    "In general, we have that\n",
    "$$Y_{i} \\sim \\text{Bern}(\\sigma(X_{i})) $$\n",
    "\n",
    "Then for $i \\ge 1$, we model\n",
    "$$X_{i} = \\rho_i X_{i-1} + \\sqrt{1-\\rho_i^2} \\cdot Z_{i} \\text{ for } Z_{i} \\sim N(\\mu, \\sigma^2) $$\n",
    "where \n",
    "$$\\rho_i = \\begin{cases} \\rho_{game} & i \\text{ is the first point of a game } \\\\ \\rho_{point} & i \\text{ else } \\\\ \\end{cases}  $$\n",
    "\n",
    "When $i = 0$, the first point in the dataset, we let\n",
    "$$X_i \\sim \\mathcal{N}(\\mu, \\sigma^2) $$\n",
    "We are interested in inferring the parameter $\\mu$, which is the mean of the skill gap, as well as understanding the distribution of the latent states $p(X | Y)$. This is a hidden Markov model."
   ]
  },
  {
   "cell_type": "code",
   "execution_count": null,
   "metadata": {},
   "outputs": [],
   "source": []
  },
  {
   "cell_type": "markdown",
   "metadata": {},
   "source": [
    "### 2.3 Discretized Model"
   ]
  },
  {
   "cell_type": "markdown",
   "metadata": {},
   "source": []
  },
  {
   "cell_type": "markdown",
   "metadata": {},
   "source": [
    " However, there are an additional $3$ parameters we need to infer:\n",
    "\n",
    "1. $\\sigma^2$, the variance level\n",
    "2. $\\rho_{point}$, the in-game correlation constant\n",
    "3. $\\rho_{game}$, the between-game correlation constant\n",
    "\n",
    "To do this, we take a Bayesian approach. In particular, we consider the priors\n",
    "\n",
    "$$ \\mu \\sim \\mathcal{N}(0, 1) $$\n",
    "$$\\sigma^2 \\sim \\text{invGamma}(2, 1) $$\n",
    "$$\\rho_{point}, \\rho_{game} \\sim \\text{Unif}(0,1) $$\n",
    "\n",
    "\n",
    "Then we can evaluate a density for the whole dataset and a specific choice of parameters:\n",
    "\n",
    "$$L(X, Y, \\mu, \\sigma, \\rho, \\gamma) =  $$"
   ]
  },
  {
   "cell_type": "code",
   "execution_count": null,
   "metadata": {},
   "outputs": [],
   "source": []
  },
  {
   "cell_type": "code",
   "execution_count": null,
   "metadata": {},
   "outputs": [],
   "source": []
  }
 ],
 "metadata": {
  "kernelspec": {
   "display_name": "Python 3",
   "language": "python",
   "name": "python3"
  },
  "language_info": {
   "codemirror_mode": {
    "name": "ipython",
    "version": 3
   },
   "file_extension": ".py",
   "mimetype": "text/x-python",
   "name": "python",
   "nbconvert_exporter": "python",
   "pygments_lexer": "ipython3",
   "version": "3.6.9"
  }
 },
 "nbformat": 4,
 "nbformat_minor": 2
}
